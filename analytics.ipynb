{
 "cells": [
  {
   "cell_type": "code",
   "execution_count": 38,
   "metadata": {},
   "outputs": [],
   "source": [
    "import pandas as pd\n",
    "import seaborn as sns\n",
    "#import pandas_profiling\n",
    "import numpy as np\n",
    "df = sns.load_dataset('iris')"
   ]
  },
  {
   "cell_type": "markdown",
   "metadata": {},
   "source": [
    "### データの構造把握"
   ]
  },
  {
   "cell_type": "code",
   "execution_count": null,
   "metadata": {},
   "outputs": [],
   "source": [
    "# 全列の（データ数、nullの有無、データ型）を表示\n",
    "df.info()\n",
    "# データの列数、行数を表示\n",
    "df.shape\n",
    "# データ型を表示\n",
    "df.dtypes\n",
    "# カラム一覧を表示\n",
    "df.columns\n",
    "# 各列のユニーク値の種類数を表示\n",
    "df.apply(lambda x: x.nunique())\n",
    "# 各列の欠損値の確認\n",
    "df.isnull().sum()\n",
    "# 指定したオブジェクトデータ列の項目別の数量を表示(NaN含む)\n",
    "df['col_1'].value_counts(dropna=False)"
   ]
  },
  {
   "cell_type": "code",
   "execution_count": 31,
   "metadata": {},
   "outputs": [
    {
     "data": {
      "text/html": [
       "<div>\n",
       "<style scoped>\n",
       "    .dataframe tbody tr th:only-of-type {\n",
       "        vertical-align: middle;\n",
       "    }\n",
       "\n",
       "    .dataframe tbody tr th {\n",
       "        vertical-align: top;\n",
       "    }\n",
       "\n",
       "    .dataframe thead th {\n",
       "        text-align: right;\n",
       "    }\n",
       "</style>\n",
       "<table border=\"1\" class=\"dataframe\">\n",
       "  <thead>\n",
       "    <tr style=\"text-align: right;\">\n",
       "      <th></th>\n",
       "      <th>sepal_length</th>\n",
       "      <th>sepal_width</th>\n",
       "      <th>petal_length</th>\n",
       "      <th>petal_width</th>\n",
       "    </tr>\n",
       "    <tr>\n",
       "      <th>species</th>\n",
       "      <th></th>\n",
       "      <th></th>\n",
       "      <th></th>\n",
       "      <th></th>\n",
       "    </tr>\n",
       "  </thead>\n",
       "  <tbody>\n",
       "    <tr>\n",
       "      <th>setosa</th>\n",
       "      <td>5.006</td>\n",
       "      <td>3.428</td>\n",
       "      <td>1.462</td>\n",
       "      <td>0.246</td>\n",
       "    </tr>\n",
       "    <tr>\n",
       "      <th>versicolor</th>\n",
       "      <td>5.936</td>\n",
       "      <td>2.770</td>\n",
       "      <td>4.260</td>\n",
       "      <td>1.326</td>\n",
       "    </tr>\n",
       "    <tr>\n",
       "      <th>virginica</th>\n",
       "      <td>6.588</td>\n",
       "      <td>2.974</td>\n",
       "      <td>5.552</td>\n",
       "      <td>2.026</td>\n",
       "    </tr>\n",
       "  </tbody>\n",
       "</table>\n",
       "</div>"
      ],
      "text/plain": [
       "            sepal_length  sepal_width  petal_length  petal_width\n",
       "species                                                         \n",
       "setosa             5.006        3.428         1.462        0.246\n",
       "versicolor         5.936        2.770         4.260        1.326\n",
       "virginica          6.588        2.974         5.552        2.026"
      ]
     },
     "execution_count": 31,
     "metadata": {},
     "output_type": "execute_result"
    }
   ],
   "source": [
    "# グループバイによる集計\n",
    "df.groupby('species').mean()"
   ]
  },
  {
   "cell_type": "code",
   "execution_count": null,
   "metadata": {},
   "outputs": [],
   "source": [
    "# ピボットテーブルによる集計\n",
    "'''\n",
    "index: 縦軸\n",
    "columns: 横軸\n",
    "values: 値\n",
    "aggfunc: 集計方法\n",
    "※index, columns, valuesには元データの列名のリストを指定することも可能\n",
    "'''\n",
    "df_pivot = df.pivot_table(index='date', columns='shash_nam', values='production_count', aggfunc='sum')"
   ]
  },
  {
   "cell_type": "markdown",
   "metadata": {},
   "source": [
    "### データクリーニング"
   ]
  },
  {
   "cell_type": "markdown",
   "metadata": {},
   "source": [
    "#### 欠損データ処理"
   ]
  },
  {
   "cell_type": "code",
   "execution_count": 39,
   "metadata": {},
   "outputs": [],
   "source": [
    "# 欠損値を含む行を削除\n",
    "df = df.dropna()\n",
    "# 欠損値を含む列を削除\n",
    "df = df.dropna(axis=1)\n",
    "# 指定した列の欠損値が含まれている行だけを削除\n",
    "df = df.dropna(subset=['列名'])\n",
    "\n",
    "# 欠損値を任意の値で埋める\n",
    "## 0で埋める場合\n",
    "df = df.fillna(0)\n",
    "## 文字で埋める場合\n",
    "df = df.fillna('任意の文字列')\n",
    "## 列を選んで適用することも可能\n",
    "df['列名'] = df['列名'].fillna(0)\n",
    "## 列ごとに指定の値で欠損値を埋める\n",
    "df = df.fillna({'列名1': 0, '列名2': 5000, '列名3': 35})"
   ]
  },
  {
   "cell_type": "markdown",
   "metadata": {},
   "source": [
    "#### 重複排除"
   ]
  },
  {
   "cell_type": "code",
   "execution_count": null,
   "metadata": {},
   "outputs": [],
   "source": [
    "# デフォルトはkeep='first'(最初の行が残る)※lastにすると最後の行が残る\n",
    "df.drop_duplicates()\n",
    "\n",
    "# 重複を判定するカラムの指定\n",
    "## 書き方1\n",
    "df.drop_duplicates(subset='state')\n",
    "df.drop_duplicates(subset=['state', 'point'])\n",
    "## 書き方2 \n",
    "df.drop_duplicates(['col_1'])\n",
    "df.drop_duplicates(['col_1'], ['col_2'])\n",
    "\n",
    "# \n",
    "df.drop_duplicates(subset='state', keep='last', inplace=True)"
   ]
  },
  {
   "cell_type": "markdown",
   "metadata": {},
   "source": [
    "#### 文字列操作"
   ]
  },
  {
   "cell_type": "code",
   "execution_count": null,
   "metadata": {},
   "outputs": [],
   "source": [
    "# 文字列置換\n",
    "## 文字列に含まれる特定の文字を変換\n",
    "series.str.replace(' ', '_')\n",
    "## 小文字変換\n",
    "s_new = s.str.lower()\n",
    "## 大文字変換\n",
    "s_new = s.str.upper()\n",
    "\n",
    "# 文字列の削除\n",
    "## 左右（先頭・末尾）両方の空白を削除する\n",
    "s_new = s.str.strip()\n",
    "## 引数に除去する文字を指定\n",
    "s_new = s.str.strip('x')\n",
    "## 先頭の空白を削除\n",
    "s_new = s.str.lstrip()\n",
    "## 末尾の空白を削除\n",
    "s_new = s.str.rstrip()\n",
    "\n",
    "# 文字列の部分抽出\n",
    "## 先頭2文字だけ抽出\n",
    "n1 = df['name'].str[:2]\n",
    "## 末尾3文字の抽出\n",
    "n2 = df['name'].str[-3:]\n",
    "## 先頭2文字目から3文字目までを抽出（2文字分）\n",
    "n5 = df['name'].str[1:3]"
   ]
  },
  {
   "cell_type": "markdown",
   "metadata": {},
   "source": [
    "#### 日付系処理"
   ]
  },
  {
   "cell_type": "code",
   "execution_count": null,
   "metadata": {},
   "outputs": [],
   "source": [
    "# 基本: 読み込み時に変換忘れたときとか\n",
    "df['timestamp'] = pd.to_datetime(df['timestamp'])"
   ]
  },
  {
   "cell_type": "markdown",
   "metadata": {},
   "source": [
    "#### 置換処理"
   ]
  },
  {
   "cell_type": "code",
   "execution_count": null,
   "metadata": {},
   "outputs": [],
   "source": [
    "# 要素の置換\n",
    "df.replace('CA', 'California')\n",
    "df.replace(24, 100)\n",
    "# 複数の異なる要素を一括で置換\n",
    "df.replace({'CA': 'California', 24: 100})\n",
    "df.replace(['CA', 24], ['California', 100]) # 第一引数に元の値のリスト、第二引数に置換後の値のリスト"
   ]
  },
  {
   "cell_type": "markdown",
   "metadata": {},
   "source": [
    "### データフレーム操作"
   ]
  },
  {
   "cell_type": "markdown",
   "metadata": {},
   "source": [
    "#### loc,iloc"
   ]
  },
  {
   "cell_type": "code",
   "execution_count": null,
   "metadata": {},
   "outputs": [],
   "source": [
    "# loc,ilocによる操作\n",
    "## 1行目のカラム2にアクセス\n",
    "df.loc['row_1', 'col_2']\n",
    "df.iloc[1, 2]\n",
    "## データの取得だけではなく、代入も可能\n",
    "df.loc['row_1', 'col_2'] = '0'\n",
    "print(df.loc['row_1', 'col_2'])\n",
    "df.iloc[1, 2] = '12'\n",
    "print(df.iloc[1, 2])\n",
    "## スライスでの範囲指定\n",
    "df.iloc[3:5, 0:2]\n",
    "df.loc[:, ['col_1', 'col_2']] # 行の指定を:(全体のスライス)にすることで、列を指定"
   ]
  },
  {
   "cell_type": "markdown",
   "metadata": {},
   "source": [
    "#### 連結,結合"
   ]
  },
  {
   "cell_type": "code",
   "execution_count": null,
   "metadata": {},
   "outputs": [],
   "source": [
    "# concat\n",
    "## 基本 (縦に積む: カラムは各DataFrameの和集合\n",
    "df = pd.concat([df_1, df_2, df_3])\n",
    "\n",
    "## 横につなげる\n",
    "df = pd.concat([df_1, df_2], axis=1)"
   ]
  },
  {
   "cell_type": "code",
   "execution_count": null,
   "metadata": {},
   "outputs": [],
   "source": [
    "# 基本 (内部結合)\n",
    "df = pd.merge(df, df_sub, on='key')\n",
    "\n",
    "# 複数のカラムをキーとする\n",
    "df = pd.merge(df, df_sub, on=['key_1', 'key_2'])\n",
    "\n",
    "# 左結合\n",
    "df = pd.merge(df, df_sub, on='key', how='left')\n",
    "\n",
    "# 左右でカラム名が違うとき\n",
    "df = pd.merge(df, df_sub,\n",
    "              left_on='key_left', right_on='key_right') \\\n",
    "       .drop('key_left', axis=1)  # キーが両方残るのでどちらか消す"
   ]
  },
  {
   "cell_type": "markdown",
   "metadata": {},
   "source": [
    "#### データ抽出"
   ]
  },
  {
   "cell_type": "code",
   "execution_count": null,
   "metadata": {},
   "outputs": [],
   "source": [
    "# 指定した列をまるごと削除\n",
    "df = df.drop(\"列名\", axis=1)\n",
    "\n",
    "# 基本\n",
    "df[df.age >= 25]\n",
    "\n",
    "# OR条件\n",
    "df[(df.age <= 19) | (df.age >= 30)]\n",
    "\n",
    "# AND条件\n",
    "df[(df.age >= 25) & (df.age <= 34)]\n",
    "\n",
    "## betweenでも書ける (あまり見ないが)\n",
    "df[df['age'].between(25, 34)]\n",
    "\n",
    "# query記法\n",
    "new = df.query(\"Pclass==1 and Age >= 30\")\n",
    "\n",
    "# 日付でフィルタ\n",
    "df['20130102':'20130104']\n",
    "\n",
    "# データ型による列選択\n",
    "## 特定の型を含む列の抽出\n",
    "df.select_dtypes(include=['object'])\n",
    "df.select_dtypes(include=['number', 'bool'])\n",
    "## 特定の型を含まない列の抽出\n",
    "df.select_dtypes(exclude=['object'])"
   ]
  },
  {
   "cell_type": "markdown",
   "metadata": {},
   "source": [
    "#### filterを使った高度な抽出"
   ]
  },
  {
   "cell_type": "code",
   "execution_count": null,
   "metadata": {},
   "outputs": [],
   "source": [
    "# 'apple', 'pineapple'が含まれる行の抽出\n",
    "df.filter(items=['apple', 'pineapple'], axis=0)\n",
    "# 'A', 'C'が含まれる列の抽出\n",
    "df.filter(items=['A', 'C'], axis=1)\n",
    "# 行、列を同時に条件指定して抽出\n",
    "df.filter(items=['A', 'C']).filter(items=['apple', 'pineapple'], axis=0)\n",
    "# 行名・列名が部分一致する（〜を含む）行・列を抽出するには、引数likeに文字列を指定する\n",
    "df.filter(like='apple', axis=0)\n",
    "# 行名・列名を正規表現で選択して行・列を抽出するには、引数regexに正規表現パターンを文字列で指定する。\n",
    "df.filter(regex='e$', axis=0)"
   ]
  },
  {
   "cell_type": "markdown",
   "metadata": {},
   "source": [
    "#### その他"
   ]
  },
  {
   "cell_type": "code",
   "execution_count": null,
   "metadata": {},
   "outputs": [],
   "source": [
    "# 100行抽出\n",
    "df.sample(n=100)\n",
    "\n",
    "# 25%抽出\n",
    "df.sample(frac=0.25)\n",
    "\n",
    "# seed固定\n",
    "df.sample(frac=0.25, random_state=42)\n",
    "\n",
    "# 重複許可: デフォルトはreplace=False\n",
    "df.sample(frac=0.25, replace=True)\n",
    "\n",
    "# 列をサンプリング\n",
    "df.sample(frac=0.25, axis=1)\n",
    "\n",
    "# ソート\n",
    "## 基本\n",
    "df.sort_values(by='col_1')\n",
    "## キーを複数 & 降昇順指定\n",
    "'''\n",
    "デフォルトは昇順(小さい順)。\n",
    "降順にするには引数ascendingをFalseにする\n",
    "'''\n",
    "df.sort_values(by=['col_1', 'col_2'], ascending=[False, True])"
   ]
  },
  {
   "cell_type": "markdown",
   "metadata": {},
   "source": [
    "### 新たなカラムの追加"
   ]
  },
  {
   "cell_type": "markdown",
   "metadata": {},
   "source": [
    "#### if文ベース"
   ]
  },
  {
   "cell_type": "code",
   "execution_count": null,
   "metadata": {},
   "outputs": [],
   "source": [
    "## 町名がSwampscottの行は1,それ以外は0のカラムの追加\n",
    "df[\"FLG2\"] = np.where(df[\"TOWN\"] == \"Swampscott\", 1, 0)\n",
    "## RM>=7.5の場合、大、それ以外中小のカラムの追加\n",
    "df[\"FLG2_2\"] = np.where(df[\"RM\"] >= 7.5, \"大\", \"中小\")\n",
    "## 複合条件\n",
    "df[\"FLG2_3\"] = np.where((df[\"RM\"] >= 7.5) & (df[\"RM\"] <= 8.0), 1, 0)"
   ]
  },
  {
   "cell_type": "markdown",
   "metadata": {},
   "source": [
    "#### if-elif-elseベース"
   ]
  },
  {
   "cell_type": "code",
   "execution_count": null,
   "metadata": {},
   "outputs": [],
   "source": [
    "def set_rm_kbn(row):\n",
    "    if ((row.TOWN == 'Swampscott') & (row.RM >= 8)):\n",
    "        return \"大\"\n",
    "    elif ((row.TOWN == 'Swampscott') & (row.RM >= 6) & (row.RM < 8)):\n",
    "        return \"Swampscott小中\"\n",
    "    elif (row.RM < 8):\n",
    "        return \"Unknown小中\"\n",
    "    else:\n",
    "        return \"OTHERS\"\n",
    "\n",
    "df[\"FLG3\"] = df.apply(set_rm_kbn, axis = 1)"
   ]
  }
 ],
 "metadata": {
  "kernelspec": {
   "display_name": "venv",
   "language": "python",
   "name": "python3"
  },
  "language_info": {
   "codemirror_mode": {
    "name": "ipython",
    "version": 3
   },
   "file_extension": ".py",
   "mimetype": "text/x-python",
   "name": "python",
   "nbconvert_exporter": "python",
   "pygments_lexer": "ipython3",
   "version": "3.11.4"
  }
 },
 "nbformat": 4,
 "nbformat_minor": 2
}
