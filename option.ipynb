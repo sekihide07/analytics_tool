{
 "cells": [
  {
   "cell_type": "code",
   "execution_count": null,
   "metadata": {},
   "outputs": [],
   "source": [
    "# 数値が科学記数法を使わずに全ての数値がそのままの形式で表示されるようになる（例: 1e-4）\n",
    "np.set_printoptions()"
   ]
  }
 ],
 "metadata": {
  "language_info": {
   "name": "python"
  }
 },
 "nbformat": 4,
 "nbformat_minor": 2
}
